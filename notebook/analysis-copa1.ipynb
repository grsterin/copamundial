{
 "cells": [
  {
   "cell_type": "markdown",
   "id": "7089e8ba-524d-4a14-9434-ca28ad4f5931",
   "metadata": {},
   "source": [
    "## Analyze the dataset"
   ]
  },
  {
   "cell_type": "code",
   "execution_count": 16,
   "id": "c10a4477-883e-4ae9-b15f-d5dbc8f087ce",
   "metadata": {},
   "outputs": [],
   "source": [
    "import numpy as np\n",
    "import pandas as pd\n",
    "from pathlib import Path\n",
    "import networkx as nx\n",
    "import random"
   ]
  },
  {
   "cell_type": "code",
   "execution_count": 7,
   "id": "e93f39c6-0c66-4e84-bdb2-082b64366d47",
   "metadata": {},
   "outputs": [],
   "source": [
    "SRC       = \"human\"\n",
    "TGT       = \"fly\"\n",
    "NETSRC    = f\"../../../runs/only_few_landmarks/data/intact/{SRC}.s.tsv\"\n",
    "NETTGT    = f\"../../../runs/only_few_landmarks/data/intact/{TGT}.s.tsv\"\n",
    "ALIGNMENT = f\"../../../runs/only_few_landmarks/temp/outputs/fly_human_lr_0.001_ep_100_svdr_100_nL_100_dthres_10_ialpha_0.7_wB_0.66/isorank.tsv\"\n",
    "ALIGNMENT = Path(ALIGNMENT)"
   ]
  },
  {
   "cell_type": "code",
   "execution_count": 107,
   "id": "96c4ca37-6d7c-45ad-b0e3-c69e82fbb215",
   "metadata": {},
   "outputs": [],
   "source": [
    "df    = pd.read_csv(ALIGNMENT, sep = \"\\t\")\n",
    "dfsrc = pd.read_csv(NETSRC, sep = \"\\t\", header=None)\n",
    "dftgt = pd.read_csv(NETTGT, sep = \"\\t\", header=None)\n",
    "Gsrc  = nx.from_pandas_edgelist(dfsrc, 0, 1)\n",
    "Gtgt  = nx.from_pandas_edgelist(dftgt, 0, 1)"
   ]
  },
  {
   "cell_type": "code",
   "execution_count": 108,
   "id": "f5d2207f-6210-43bf-9f53-b296993c17c0",
   "metadata": {},
   "outputs": [],
   "source": [
    "srcmusthave = df[SRC].values\n",
    "tgtmusthave = df[TGT].values"
   ]
  },
  {
   "cell_type": "code",
   "execution_count": 109,
   "id": "caecd8e3-cbcd-4d7c-b52e-695aa4a2e735",
   "metadata": {
    "tags": []
   },
   "outputs": [],
   "source": [
    "srcnodes = set(random.sample(list(Gsrc.nodes), 4000) + srcmusthave.tolist())\n",
    "tgtnodes = set(random.sample(list(Gtgt.nodes), 4000) + tgtmusthave.tolist())"
   ]
  },
  {
   "cell_type": "code",
   "execution_count": 110,
   "id": "98b441ca-39f8-4011-9aca-6fb7fea16215",
   "metadata": {},
   "outputs": [],
   "source": [
    "Gsubsrc = Gsrc.subgraph(srcnodes)\n",
    "Gsubtgt = Gtgt.subgraph(tgtnodes)"
   ]
  },
  {
   "cell_type": "markdown",
   "id": "e88f73ba-4ec1-4a96-a117-3bf290531e65",
   "metadata": {},
   "source": [
    "## Remove high degree nodes"
   ]
  },
  {
   "cell_type": "code",
   "execution_count": 112,
   "id": "dc89dc42-30d4-4ded-8300-994518b47ba2",
   "metadata": {},
   "outputs": [],
   "source": [
    "Gsubsrc = Gsubsrc.subgraph([x for x, i in list(Gsubsrc.degree()) if i < 25])\n",
    "Gsubtgt = Gsubtgt.subgraph([x for x, i in list(Gsubtgt.degree()) if i < 25])"
   ]
  },
  {
   "cell_type": "code",
   "execution_count": 113,
   "id": "77a55178-68d1-4b94-98cd-7c29fb51f132",
   "metadata": {},
   "outputs": [],
   "source": [
    "srccc   = max(nx.connected_components(Gsubsrc), key = len)\n",
    "tgtcc   = max(nx.connected_components(Gsubtgt), key = len)\n",
    "Gsubsrc = Gsubsrc.subgraph(srccc)\n",
    "Gsubtgt = Gsubtgt.subgraph(tgtcc)\n",
    "srcmusthave = set(srccc).intersection(srcmusthave)\n",
    "tgtmusthave = set(tgtcc).intersection(tgtmusthave)"
   ]
  },
  {
   "cell_type": "markdown",
   "id": "845f49bd-9087-4a3c-9033-b03d1cf9c7a8",
   "metadata": {},
   "source": [
    "## Constructing a super-matrix that combines both source and target"
   ]
  },
  {
   "cell_type": "code",
   "execution_count": 166,
   "id": "4a6835f4-87c6-45fb-8b0d-ff4d189f2b33",
   "metadata": {},
   "outputs": [],
   "source": [
    "smap        = {k: i for i, k in enumerate(Gsubsrc.nodes())}\n",
    "tmap        = {k: i for i, k in enumerate(Gsubtgt.nodes())}\n",
    "srcmat      = nx.adjacency_matrix(Gsubsrc).toarray()\n",
    "tgtmat      = nx.adjacency_matrix(Gsubtgt).toarray()\n",
    "tgt_src_mat = np.zeros((tgtmat.shape[0], srcmat.shape[0]))\n",
    "SC          = 1\n",
    "for sc, tg in df[[SRC, TGT]].values:\n",
    "    try:\n",
    "        idxsc = smap[sc]\n",
    "        idxtg = tmap[tg]\n",
    "    except Exception as e:\n",
    "        continue\n",
    "    tgt_src_mat[idxtg, idxsc] = SC "
   ]
  },
  {
   "cell_type": "code",
   "execution_count": 167,
   "id": "f54170b3-baf3-42ae-a1ab-c9b19ee743bf",
   "metadata": {},
   "outputs": [],
   "source": [
    "combinedmat = np.zeros((srcmat.shape[0]+tgtmat.shape[0], srcmat.shape[0]+tgtmat.shape[0]))\n",
    "combinedmat[:tgtmat.shape[0], :tgtmat.shape[0] ] = tgtmat\n",
    "combinedmat[tgtmat.shape[0]:,  tgtmat.shape[0]:] = srcmat\n",
    "combinedmat[:tgtmat.shape[0],  tgtmat.shape[0]:] = tgt_src_mat\n",
    "combinedmat[tgtmat.shape[0]:, :tgtmat.shape[0] ] = tgt_src_mat.T"
   ]
  },
  {
   "cell_type": "markdown",
   "id": "32eb3d47-7dd9-4ef1-95b6-5614c7942d93",
   "metadata": {},
   "source": [
    "## Finally generating the DSD matrix"
   ]
  },
  {
   "cell_type": "code",
   "execution_count": 168,
   "id": "8680918d-3783-44c8-96c3-6d7fdf3c5d79",
   "metadata": {},
   "outputs": [],
   "source": [
    "import glidetools.algorithm.dsd as dsd\n",
    "CDSD = dsd.compute_dsd_embedding(combinedmat, is_normalized=True)"
   ]
  },
  {
   "cell_type": "code",
   "execution_count": 169,
   "id": "e9ead714-023e-46d6-8871-4c33998ba931",
   "metadata": {},
   "outputs": [],
   "source": [
    "from scipy.spatial.distance import pdist, squareform"
   ]
  },
  {
   "cell_type": "code",
   "execution_count": 170,
   "id": "7c2c8c5f-e5dd-4ba3-a348-12a4a1dd65ce",
   "metadata": {},
   "outputs": [],
   "source": [
    "DIST = squareform(pdist(CDSD))"
   ]
  },
  {
   "cell_type": "markdown",
   "id": "3b3764a1-621d-492f-958c-c0dc93fa93d1",
   "metadata": {},
   "source": [
    "## Extract the upper right matrix representing the relationship between two species, and select the five top locations"
   ]
  },
  {
   "cell_type": "code",
   "execution_count": 171,
   "id": "bb096b21-7b2e-4412-96b4-5581d84d4dbd",
   "metadata": {},
   "outputs": [],
   "source": [
    "UPPER_RIGHT = DIST[:tgtmat.shape[0], tgtmat.shape[0]:]"
   ]
  },
  {
   "cell_type": "code",
   "execution_count": 172,
   "id": "727d50e1-9aae-47f2-8b13-1e92673d46ef",
   "metadata": {},
   "outputs": [
    {
     "data": {
      "text/plain": [
       "array([[4.33847883, 4.39528993, 3.9170962 , 4.30292799, 3.41438467],\n",
       "       [3.53955654, 3.60620126, 3.03504249, 3.49745051, 2.3981487 ],\n",
       "       [3.52987218, 3.59490361, 3.01062793, 3.48556454, 2.39133412],\n",
       "       ...,\n",
       "       [3.87752393, 3.94827952, 3.37220896, 3.83665492, 2.74599076],\n",
       "       [3.91728216, 3.99889533, 3.46470226, 3.89686416, 2.91132905],\n",
       "       [4.0272935 , 4.09593216, 3.54060506, 3.98761223, 2.94664583]])"
      ]
     },
     "execution_count": 172,
     "metadata": {},
     "output_type": "execute_result"
    }
   ],
   "source": [
    "UPPER_RIGHT[:, [1743,  866, 1919,  685, 1614]]"
   ]
  },
  {
   "cell_type": "code",
   "execution_count": 173,
   "id": "6718e746-4ef2-4e83-948f-440d85dec176",
   "metadata": {},
   "outputs": [
    {
     "data": {
      "text/plain": [
       "array([[1743,  866, 1614, ..., 1209, 1840, 2088],\n",
       "       [1743,  866, 1919, ..., 1205, 1136,  458],\n",
       "       [1743,  866, 1919, ..., 1209, 1205, 1136],\n",
       "       ...,\n",
       "       [1743,  866, 1919, ...,  362,  905, 1764],\n",
       "       [1743,  866, 1919, ..., 1205, 1262,  129],\n",
       "       [1743,  866, 1919, ...,  441,  362,  905]])"
      ]
     },
     "execution_count": 173,
     "metadata": {},
     "output_type": "execute_result"
    }
   ],
   "source": [
    "CLOSEST"
   ]
  },
  {
   "cell_type": "code",
   "execution_count": 174,
   "id": "92e7dc2b-1d68-4a58-a319-4c357040c26a",
   "metadata": {
    "tags": []
   },
   "outputs": [],
   "source": [
    "CLOSEST = np.argsort(UPPER_RIGHT, axis = 1)[:, :250]\n",
    "rtmap = {v: k for k, v in tmap.items()}\n",
    "rsmap = {v: k for k, v in smap.items()}\n",
    "clmat   = []\n",
    "columns = [\"target\"] + [f\"src-{idx}\" for idx in range(250)]\n",
    "for i, entries in enumerate(CLOSEST):\n",
    "    clmat.append([rtmap[i]] + [rsmap[j] for j in entries])\n",
    "pd.DataFrame(clmat, columns = columns).set_index(\"target\").to_csv(f\"{SRC}_{TGT}_{SC}.tsv\", sep = \"\\t\")"
   ]
  }
 ],
 "metadata": {
  "kernelspec": {
   "display_name": "molfeat",
   "language": "python",
   "name": "molfeat"
  },
  "language_info": {
   "codemirror_mode": {
    "name": "ipython",
    "version": 3
   },
   "file_extension": ".py",
   "mimetype": "text/x-python",
   "name": "python",
   "nbconvert_exporter": "python",
   "pygments_lexer": "ipython3",
   "version": "3.11.9"
  }
 },
 "nbformat": 4,
 "nbformat_minor": 5
}
