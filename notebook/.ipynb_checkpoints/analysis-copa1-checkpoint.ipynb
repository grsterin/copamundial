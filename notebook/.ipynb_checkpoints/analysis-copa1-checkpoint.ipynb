{
 "cells": [
  {
   "cell_type": "markdown",
   "id": "7089e8ba-524d-4a14-9434-ca28ad4f5931",
   "metadata": {},
   "source": [
    "## Analyze the dataset"
   ]
  },
  {
   "cell_type": "code",
   "execution_count": 16,
   "id": "c10a4477-883e-4ae9-b15f-d5dbc8f087ce",
   "metadata": {},
   "outputs": [],
   "source": [
    "import numpy as np\n",
    "import pandas as pd\n",
    "from pathlib import Path\n",
    "import networkx as nx\n",
    "import random"
   ]
  },
  {
   "cell_type": "code",
   "execution_count": 7,
   "id": "e93f39c6-0c66-4e84-bdb2-082b64366d47",
   "metadata": {},
   "outputs": [],
   "source": [
    "SRC       = \"human\"\n",
    "TGT       = \"fly\"\n",
    "NETSRC    = f\"../../../runs/only_few_landmarks/data/intact/{SRC}.s.tsv\"\n",
    "NETTGT    = f\"../../../runs/only_few_landmarks/data/intact/{TGT}.s.tsv\"\n",
    "ALIGNMENT = f\"../../../runs/only_few_landmarks/temp/outputs/fly_human_lr_0.001_ep_100_svdr_100_nL_100_dthres_10_ialpha_0.7_wB_0.66/isorank.tsv\"\n",
    "ALIGNMENT = Path(ALIGNMENT)"
   ]
  },
  {
   "cell_type": "code",
   "execution_count": 107,
   "id": "96c4ca37-6d7c-45ad-b0e3-c69e82fbb215",
   "metadata": {},
   "outputs": [],
   "source": [
    "df    = pd.read_csv(ALIGNMENT, sep = \"\\t\")\n",
    "dfsrc = pd.read_csv(NETSRC, sep = \"\\t\", header=None)\n",
    "dftgt = pd.read_csv(NETTGT, sep = \"\\t\", header=None)\n",
    "Gsrc  = nx.from_pandas_edgelist(dfsrc, 0, 1)\n",
    "Gtgt  = nx.from_pandas_edgelist(dftgt, 0, 1)"
   ]
  },
  {
   "cell_type": "code",
   "execution_count": 108,
   "id": "f5d2207f-6210-43bf-9f53-b296993c17c0",
   "metadata": {},
   "outputs": [],
   "source": [
    "srcmusthave = df[SRC].values\n",
    "tgtmusthave = df[TGT].values"
   ]
  },
  {
   "cell_type": "code",
   "execution_count": 109,
   "id": "caecd8e3-cbcd-4d7c-b52e-695aa4a2e735",
   "metadata": {
    "tags": []
   },
   "outputs": [],
   "source": [
    "srcnodes = set(random.sample(list(Gsrc.nodes), 4000) + srcmusthave.tolist())\n",
    "tgtnodes = set(random.sample(list(Gtgt.nodes), 4000) + tgtmusthave.tolist())"
   ]
  },
  {
   "cell_type": "code",
   "execution_count": 110,
   "id": "98b441ca-39f8-4011-9aca-6fb7fea16215",
   "metadata": {},
   "outputs": [],
   "source": [
    "Gsubsrc = Gsrc.subgraph(srcnodes)\n",
    "Gsubtgt = Gtgt.subgraph(tgtnodes)"
   ]
  },
  {
   "cell_type": "markdown",
   "id": "e88f73ba-4ec1-4a96-a117-3bf290531e65",
   "metadata": {},
   "source": [
    "## Remove high degree nodes"
   ]
  },
  {
   "cell_type": "code",
   "execution_count": 112,
   "id": "dc89dc42-30d4-4ded-8300-994518b47ba2",
   "metadata": {},
   "outputs": [],
   "source": [
    "Gsubsrc = Gsubsrc.subgraph([x for x, i in list(Gsubsrc.degree()) if i < 25])\n",
    "Gsubtgt = Gsubtgt.subgraph([x for x, i in list(Gsubtgt.degree()) if i < 25])"
   ]
  },
  {
   "cell_type": "code",
   "execution_count": 113,
   "id": "77a55178-68d1-4b94-98cd-7c29fb51f132",
   "metadata": {},
   "outputs": [],
   "source": [
    "srccc   = max(nx.connected_components(Gsubsrc), key = len)\n",
    "tgtcc   = max(nx.connected_components(Gsubtgt), key = len)\n",
    "Gsubsrc = Gsubsrc.subgraph(srccc)\n",
    "Gsubtgt = Gsubtgt.subgraph(tgtcc)\n",
    "srcmusthave = set(srccc).intersection(srcmusthave)\n",
    "tgtmusthave = set(tgtcc).intersection(tgtmusthave)"
   ]
  },
  {
   "cell_type": "markdown",
   "id": "845f49bd-9087-4a3c-9033-b03d1cf9c7a8",
   "metadata": {},
   "source": [
    "## Constructing a super-matrix that combines both source and target"
   ]
  },
  {
   "cell_type": "code",
   "execution_count": 138,
   "id": "4a6835f4-87c6-45fb-8b0d-ff4d189f2b33",
   "metadata": {},
   "outputs": [],
   "source": [
    "smap        = {k: i for i, k in enumerate(Gsubsrc.nodes())}\n",
    "tmap        = {k: i for i, k in enumerate(Gsubtgt.nodes())}\n",
    "srcmat      = nx.adjacency_matrix(Gsubsrc).toarray()\n",
    "tgtmat      = nx.adjacency_matrix(Gsubtgt).toarray()\n",
    "tgt_src_mat = np.zeros((tgtmat.shape[0], srcmat.shape[0]))\n",
    "SC          = 20\n",
    "for sc, tg in df[[SRC, TGT]].values:\n",
    "    try:\n",
    "        idxsc = smap[sc]\n",
    "        idxtg = tmap[tg]\n",
    "    except Exception as e:\n",
    "        continue\n",
    "    tgt_src_mat[idxtg, idxsc] = SC "
   ]
  },
  {
   "cell_type": "code",
   "execution_count": 139,
   "id": "f54170b3-baf3-42ae-a1ab-c9b19ee743bf",
   "metadata": {},
   "outputs": [],
   "source": [
    "combinedmat = np.zeros((srcmat.shape[0]+tgtmat.shape[0], srcmat.shape[0]+tgtmat.shape[0]))\n",
    "combinedmat[:tgtmat.shape[0], :tgtmat.shape[0] ] = tgtmat\n",
    "combinedmat[tgtmat.shape[0]:,  tgtmat.shape[0]:] = srcmat\n",
    "combinedmat[:tgtmat.shape[0],  tgtmat.shape[0]:] = tgt_src_mat\n",
    "combinedmat[tgtmat.shape[0]:, :tgtmat.shape[0] ] = tgt_src_mat.T"
   ]
  },
  {
   "cell_type": "markdown",
   "id": "32eb3d47-7dd9-4ef1-95b6-5614c7942d93",
   "metadata": {},
   "source": [
    "## Finally generating the DSD matrix"
   ]
  },
  {
   "cell_type": "code",
   "execution_count": 140,
   "id": "8680918d-3783-44c8-96c3-6d7fdf3c5d79",
   "metadata": {},
   "outputs": [],
   "source": [
    "import glidetools.algorithm.dsd as dsd\n",
    "CDSD = dsd.compute_dsd_embedding(combinedmat, is_normalized=True)"
   ]
  },
  {
   "cell_type": "code",
   "execution_count": 141,
   "id": "e9ead714-023e-46d6-8871-4c33998ba931",
   "metadata": {},
   "outputs": [],
   "source": [
    "from scipy.spatial.distance import pdist, squareform"
   ]
  },
  {
   "cell_type": "code",
   "execution_count": 142,
   "id": "7c2c8c5f-e5dd-4ba3-a348-12a4a1dd65ce",
   "metadata": {},
   "outputs": [],
   "source": [
    "DIST = squareform(pdist(CDSD))"
   ]
  },
  {
   "cell_type": "markdown",
   "id": "3b3764a1-621d-492f-958c-c0dc93fa93d1",
   "metadata": {},
   "source": [
    "## Extract the upper right matrix representing the relationship between two species, and select the five top locations"
   ]
  },
  {
   "cell_type": "code",
   "execution_count": 143,
   "id": "bb096b21-7b2e-4412-96b4-5581d84d4dbd",
   "metadata": {},
   "outputs": [],
   "source": [
    "UPPER_RIGHT = DIST[:tgtmat.shape[0], tgtmat.shape[0]:]"
   ]
  },
  {
   "cell_type": "code",
   "execution_count": 153,
   "id": "727d50e1-9aae-47f2-8b13-1e92673d46ef",
   "metadata": {},
   "outputs": [
    {
     "data": {
      "text/plain": [
       "array([[2.8341139 , 2.88245601, 2.9569097 , 2.99021641, 2.99163416],\n",
       "       [1.50698668, 1.5851532 , 1.75954602, 1.76970928, 1.83798052],\n",
       "       [1.43427177, 1.49524712, 1.65894424, 1.70206979, 1.8757339 ],\n",
       "       ...,\n",
       "       [1.8132829 , 1.9260618 , 2.0074604 , 2.08157445, 2.10421221],\n",
       "       [1.97581172, 2.18444092, 2.28710767, 2.32496595, 2.42347029],\n",
       "       [2.09585465, 2.19581816, 2.26391336, 2.33281939, 2.35112139]])"
      ]
     },
     "execution_count": 153,
     "metadata": {},
     "output_type": "execute_result"
    }
   ],
   "source": [
    "UPPER_RIGHT[:, [1743,  866, 1919,  685, 1614]]"
   ]
  },
  {
   "cell_type": "code",
   "execution_count": 163,
   "id": "6718e746-4ef2-4e83-948f-440d85dec176",
   "metadata": {},
   "outputs": [
    {
     "data": {
      "text/plain": [
       "array([[1743,  866, 1614, 1919,  685],\n",
       "       [1743,  866, 1919, 1614,  685],\n",
       "       [1743,  866, 1919,  685, 1614],\n",
       "       ...,\n",
       "       [1743,  866, 1919, 1614,  685],\n",
       "       [1743,  866, 1919,  685, 1614],\n",
       "       [1743,  866, 1919, 1614,  685]])"
      ]
     },
     "execution_count": 163,
     "metadata": {},
     "output_type": "execute_result"
    }
   ],
   "source": [
    "CLOSEST"
   ]
  },
  {
   "cell_type": "code",
   "execution_count": 165,
   "id": "92e7dc2b-1d68-4a58-a319-4c357040c26a",
   "metadata": {
    "tags": []
   },
   "outputs": [],
   "source": [
    "CLOSEST = np.argsort(UPPER_RIGHT, axis = 1)[:, :250]\n",
    "rtmap = {v: k for k, v in tmap.items()}\n",
    "rsmap = {v: k for k, v in smap.items()}\n",
    "clmat   = []\n",
    "columns = [\"target\"] + [f\"src-{idx}\" for idx in range(250)]\n",
    "for i, entries in enumerate(CLOSEST):\n",
    "    clmat.append([rtmap[i]] + [rsmap[j] for j in entries])\n",
    "pd.DataFrame(clmat, columns = columns).set_index(\"target\").to_csv(f\"{SRC}_{TGT}_{SC}.tsv\", sep = \"\\t\")"
   ]
  },
  {
   "cell_type": "code",
   "execution_count": null,
   "id": "f166ed1f-e7ab-44ae-ada5-db5af5eb83f1",
   "metadata": {},
   "outputs": [],
   "source": []
  }
 ],
 "metadata": {
  "kernelspec": {
   "display_name": "molfeat",
   "language": "python",
   "name": "molfeat"
  },
  "language_info": {
   "codemirror_mode": {
    "name": "ipython",
    "version": 3
   },
   "file_extension": ".py",
   "mimetype": "text/x-python",
   "name": "python",
   "nbconvert_exporter": "python",
   "pygments_lexer": "ipython3",
   "version": "3.11.9"
  }
 },
 "nbformat": 4,
 "nbformat_minor": 5
}
